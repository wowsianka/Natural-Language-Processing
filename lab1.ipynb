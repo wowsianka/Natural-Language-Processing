{
 "cells": [
  {
   "cell_type": "code",
   "execution_count": 1,
   "id": "b2154efc-f7ba-477b-8cf6-b5ebf391c298",
   "metadata": {},
   "outputs": [],
   "source": [
    "import matplotlib.pyplot as plt\n",
    "import regex\n",
    "import os\n",
    "import numpy as np\n",
    "import random"
   ]
  },
  {
   "cell_type": "markdown",
   "id": "eaec1955-513c-4693-859e-eb650672ffb5",
   "metadata": {},
   "source": [
    "Wczytaj ścieżki ustaw:"
   ]
  },
  {
   "cell_type": "code",
   "execution_count": 4,
   "id": "d7f911e3-7ae9-4598-b9f8-5c8ce7ed51d3",
   "metadata": {},
   "outputs": [],
   "source": [
    "law_paths = []\n",
    "for file in os.listdir('./ustawy'):\n",
    "    law_paths.append(os.path.join(\"./ustawy\",file))"
   ]
  },
  {
   "cell_type": "code",
   "execution_count": 5,
   "id": "62e67be1-ebcd-4deb-aab5-1083d00dd9f0",
   "metadata": {},
   "outputs": [],
   "source": [
    "law_paths.remove('./ustawy/.DS_Store')\n",
    "law_paths.remove('./ustawy/.ipynb_checkpoints')\n"
   ]
  },
  {
   "cell_type": "markdown",
   "id": "2966a9a7-90d8-43dd-9fe1-dd0d3640731b",
   "metadata": {},
   "source": [
    "Wczytaj zawartość ustaw:"
   ]
  },
  {
   "cell_type": "code",
   "execution_count": 6,
   "id": "ef467f4c-dc04-488e-8c9b-fe65542a493c",
   "metadata": {
    "tags": []
   },
   "outputs": [],
   "source": [
    "laws_content= []\n",
    "for file_name in law_paths:\n",
    "    if file_name != './ustawy/.DS_Store':\n",
    "        if os.path.isfile(file_name):\n",
    "            with open(file_name, \"r\") as f:\n",
    "                laws_content.append(f.read())\n"
   ]
  },
  {
   "cell_type": "code",
   "execution_count": 7,
   "id": "06f5ff9e-591c-45f2-8e1f-24b2d898e290",
   "metadata": {},
   "outputs": [
    {
     "data": {
      "text/plain": [
       "1178"
      ]
     },
     "execution_count": 7,
     "metadata": {},
     "output_type": "execute_result"
    }
   ],
   "source": [
    "len(laws_content)"
   ]
  },
  {
   "cell_type": "markdown",
   "id": "062b2430-f1a7-4585-bb0d-049d9c3edce9",
   "metadata": {},
   "source": [
    "### DODAJE SIĘ"
   ]
  },
  {
   "cell_type": "markdown",
   "id": "4bbe46cf-1417-43b4-81ab-8207616e3ee9",
   "metadata": {},
   "source": [
    "Sprawdzenie co pojawia sie po \"dodaje się\":"
   ]
  },
  {
   "cell_type": "code",
   "execution_count": 8,
   "id": "ecb34ee8-11f6-439e-b257-ea6b677ff763",
   "metadata": {},
   "outputs": [],
   "source": [
    "random_laws = random.choices(laws_content, k=5)"
   ]
  },
  {
   "cell_type": "code",
   "execution_count": 9,
   "id": "15bb7ec6-15bd-4b2f-9fd2-a2c49268e492",
   "metadata": {},
   "outputs": [],
   "source": [
    "reg = regex.compile(r\"dodaje się\", regex.IGNORECASE)"
   ]
  },
  {
   "cell_type": "code",
   "execution_count": 10,
   "id": "4adc34ae-a251-48ce-a1ba-5871df86074c",
   "metadata": {},
   "outputs": [
    {
     "name": "stdout",
     "output_type": "stream",
     "text": [
      "dodaje się ust. 3 w brzmieniu:\n",
      "    \n",
      "==============================\n",
      "dodaje się pkt 10 w\n",
      "     brzmieniu:\n",
      "==============================\n",
      "dodaje się ust. 3-5 w brzmieniu:\n",
      "  \n",
      "==============================\n",
      "dodaje się art. 4a w brzmieniu:\n",
      "   \n",
      "==============================\n",
      "dodaje się ust. 2a w brzmieniu:\n",
      "   \n",
      "==============================\n",
      "dodaje się wyrazy \" ,z zastrzeżenie\n",
      "==============================\n",
      "dodaje się ust. 2 w brzmieniu:\n",
      "    \n",
      "==============================\n",
      "dodaje się ust. 1a w brzmieniu:\n",
      "   \n",
      "==============================\n"
     ]
    }
   ],
   "source": [
    "for law in random_laws:\n",
    "    #returns an iterator yielding match objects matching the regex pattern in a string instead of a list.\n",
    "    #number of matches is high, and you could risk filling up your memory by loading them all using findall(). \n",
    "    #you can get all possible matches in the form of an iterator object, which will improve performance.\n",
    "    \n",
    "    for match in reg.finditer(law):\n",
    "        start, end = match.span()\n",
    "        print(law[start:end + 25])\n",
    "        print(\"=\"*30)"
   ]
  },
  {
   "cell_type": "markdown",
   "id": "b027d123-e66a-423e-a8e2-54deaaf1884d",
   "metadata": {},
   "source": [
    "- dodaje się/ sie\n",
    "- dodaje (bez się) punkt"
   ]
  },
  {
   "cell_type": "code",
   "execution_count": 11,
   "id": "515ed8bc-67c4-4f19-9ff4-2fab03798509",
   "metadata": {},
   "outputs": [
    {
     "name": "stdout",
     "output_type": "stream",
     "text": [
      "{'2', 'rozdziały', 'kwotę', 'nowe', 'zdanie', 'ozna', 'dział', 'informację', '3', 'trzykrotnie', 'zdania', 'trzecie', '4', 'każdorazowo', 'przecinek', 'litery', '5a', 'wyraz', '38a', 'oznaczenie', 'lp', '§3', 'się', 'po', 'usta', 'masę', 'zadanie', 'na', 'użyty', 'dwukropek', 'dwukrotnie', 'oddział', 'określenie', 'załącznik', 'art', 'ust', '§2', 'wyrazy', 'tytuł', 'kropkę', 'punkt', 'średnik', 'lit', 'w', 'drugie', 'wraz', 'poz', 'cyfrę', 'nowy', '§', 'tiret', 'pozycję', '2a', 'pkt', '§1a', 'odnośnik', 'rozdział', 'użyte'}\n"
     ]
    }
   ],
   "source": [
    "reg = regex.compile(r\"dodaje\\s+(si[ęe]\\s+)?[\\w§]+\", regex.IGNORECASE)\n",
    "phrases = set()\n",
    "\n",
    "for law_act in laws_content:\n",
    "    for match in reg.finditer(law_act):\n",
    "        start, end = match.span()\n",
    "        phrases.add(law_act[start: end].split()[-1].lower())\n",
    "\n",
    "print(phrases)"
   ]
  },
  {
   "cell_type": "markdown",
   "id": "7d964bdd-f0f7-4a7d-93ef-080f3a7ce705",
   "metadata": {},
   "source": [
    "- dodaje się nowy/nowe ust. 1a w \n",
    "- dodaje się  5a i  5b w brzmieniu\n",
    "- dodaje się § 2 w brzmieniu:\n",
    "- załącznik\n",
    "- punkt\n",
    "- dodaje się oddział 5 w brzmieniu:\n",
    "- rozdział/y\n",
    "- pkt\n",
    "- tiret\n",
    "- dodaje się litery g)-j) w brzmieniu:\n",
    "- dodaje się zdanie trzecie w brzmieniu:/ trzecie zdanie\n",
    "- dodaje się lit e) w brzmieniu:\n",
    "- oznaczenie rozdziału 6a\n",
    "- dodaje się odnośnik nr 1 w brzmieniu: \n",
    "- zdanie"
   ]
  },
  {
   "cell_type": "code",
   "execution_count": 12,
   "id": "c4b57986-57ec-4557-be92-45df197db330",
   "metadata": {},
   "outputs": [
    {
     "name": "stdout",
     "output_type": "stream",
     "text": [
      "9\n"
     ]
    }
   ],
   "source": [
    "import collections\n",
    "phrase= r\"(dodaje\\s+(si[eę]\\s+)?(nowy\\s+|nowe\\s+)?(\\d+|§|art|załącznik|punkt|pkt|oddział|rozdziały|rodział|tiret|litery|lit|zdanie|odnośnik|oznaczenie|zdanie|ust|usta))\"\n",
    "reg = regex.compile(phrase, regex.IGNORECASE)\n",
    "count_additions =  collections.defaultdict(lambda: 0)\n",
    "for i, law_act in enumerate(laws_content):\n",
    "    matches_iterator = reg.finditer(law_act)\n",
    "    for match in matches_iterator:\n",
    "        count_additions[law_paths[i]] += 1\n",
    "        \n",
    "print(count_additions[\"./ustawy/1995_654.txt\"])"
   ]
  },
  {
   "cell_type": "markdown",
   "id": "da1ed5b7-59a8-4d80-b1f1-401dc3f58342",
   "metadata": {},
   "source": [
    "### SKREŚLA SIE:"
   ]
  },
  {
   "cell_type": "code",
   "execution_count": 14,
   "id": "2c0dac54-1bf5-4d99-8d8a-4947328d8ab0",
   "metadata": {},
   "outputs": [],
   "source": [
    "reg = regex.compile(r\"skreśla (si[eę])?\", regex.IGNORECASE)"
   ]
  },
  {
   "cell_type": "code",
   "execution_count": 15,
   "id": "30248393-51c7-4258-b614-664cce837e6e",
   "metadata": {},
   "outputs": [
    {
     "name": "stdout",
     "output_type": "stream",
     "text": [
      "ch.\";\n",
      "2) w art. 237{6}:\n",
      "   a) skreśla się § 2,\n",
      "   b) § 3 otrzymuje\n",
      "==============================\n",
      "\n",
      "zmiany:\n",
      "1) w art. 2 w ust. 3 skreśla się wyraz \"normami\" i następ\n",
      "==============================\n",
      "azie\n",
      "  przecinek;\n",
      "2) w art. 5 skreśla się wyraz \"normami\" i następ\n",
      "==============================\n",
      "znego.\";\n",
      "4) w art. 8 w ust. 2 skreśla się wyrazy \"przeprowadzeniu \n",
      "==============================\n",
      "iu niezbędnych badań\n",
      "  i\";\n",
      "5) skreśla się art. 10;\n",
      "6) w art. 12 do\n",
      "==============================\n",
      ";\n",
      "7) w art. 23:\n",
      "   a) w pkt 1 skreśla się wyrazy \"i norm\",\n",
      "   b) w\n",
      "==============================\n",
      "rt. 12 ust. 1.\";\n",
      "9) w art. 34 skreśla się ust. 3 i 4.\n",
      "            \n",
      "==============================\n",
      " 1 oraz w art. 12 w pkt 1 i 3 skreśla się wyraz\n",
      "  \"akredytacji,\";\n",
      "\n",
      "==============================\n",
      " \"akredytacji,\";\n",
      "3) w art. 21 skreśla się ust. 4;\n",
      "4) w art. 22 skr\n",
      "==============================\n",
      "eśla się ust. 4;\n",
      "4) w art. 22 skreśla się ust. 3;\n",
      "5) w art. 25:\n",
      "  \n",
      "==============================\n",
      "ę ust. 3;\n",
      "5) w art. 25:\n",
      "   a) skreśla się ust. 2,\n",
      "   b) w ust. 3 s\n",
      "==============================\n",
      "la się ust. 2,\n",
      "   b) w ust. 3 skreśla się wyraz \"akredytacją,\".\n",
      "  \n",
      "==============================\n",
      "za się następujące zmiany:\n",
      "1) skreśla się ust. 3;\n",
      "2) w ust. 4 w pk\n",
      "==============================\n",
      "Centrum Badań i Certyfikacji\" skreśla się.\n",
      "                       \n",
      "==============================\n",
      "ust. 3 po wyrazie \"świadczeń\" skreśla się wyrazy \"kształci się w s\n",
      "==============================\n",
      "u innych okoliczności\",\n",
      "   c) skreśla się ust. 4;\n",
      "8) w art. 13:\n",
      "  \n",
      "==============================\n",
      "ego funduszu.\";\n",
      "10) w art. 19 skreśla się pkt 2.\n",
      "                 \n",
      "==============================\n"
     ]
    }
   ],
   "source": [
    "for law in random_laws:\n",
    "    #returns an iterator yielding match objects matching the regex pattern in a string instead of a list.\n",
    "    #number of matches is high, and you could risk filling up your memory by loading them all using findall(). \n",
    "    #you can get all possible matches in the form of an iterator object, which will improve performance.\n",
    "    \n",
    "    for match in reg.finditer(law):\n",
    "        start, end = match.span()\n",
    "        print(law[start-30:end + 25])\n",
    "        print(\"=\"*30)"
   ]
  },
  {
   "cell_type": "code",
   "execution_count": 17,
   "id": "9abfa53c-ea5f-48c5-a273-06e05fc2c977",
   "metadata": {},
   "outputs": [
    {
     "name": "stdout",
     "output_type": "stream",
     "text": [
      "{'pozostałą', 'wyrok', 'ustawę', 'uchwały', 'wyraz', 'psychologa', 'oznaczenie', 'przepisy', 'się', 'z', 'użyty', 'decyzje', 'postanowienia', 'go', 'oraz', 'art', 'wyrazy', 'decyzję', 'zaskarżone', 'postanowienie', 'zabezpieczenie', 'użyte', 'zastrzeżenie', 'dział', 'lub', 'ważność', 'przecinek', 'ten', 'zarządzenie', 'jego', 'nakaz', 'to', 'skutków', 'wydane', 'pytania', '11', 'kropkę', 'tytuł', 'powołanie', '1', 'sprzeczną', 'preambułę', '§', 'rzeczoznawcę', 'odnośnik', 'lit', 'aplikanta', 'przyimek', 'rozdziały', 'diagnostę', 'zdanie', 'biegłego', 'zdania', 'pozostałe', 'ostatnie', 'uchwałę', 'jeden', 'poprzednią', 'załącznik', 'zezwolenie', 'ją', 'lekarza', 'w', 'zakaz', 'tiret', 'pilota', 'prawomocnego', 'je', 'rozporządzenie', 'wszystkie', 'orzeczenie', 'na', 'odpowiedzialności', 'zakład', 'oddział', 'zaskarżony', 'ust', 'od', 'niezwłocznie', 'drugie', 'poz', 'odpowiednio', 'zaskarżoną', 'karę', 'pkt', 'rozdział', 'i'}\n"
     ]
    }
   ],
   "source": [
    "reg = regex.compile(r\"(skreśla|uchyla)\\s+(si[ęe]\\s+)?[\\w§]+\", regex.IGNORECASE)\n",
    "phrases = set()\n",
    "\n",
    "for law_act in laws_content:\n",
    "    for match in reg.finditer(law_act):\n",
    "        start, end = match.span()\n",
    "        phrases.add(law_act[start: end].split()[-1].lower())\n",
    "\n",
    "print(phrases)"
   ]
  },
  {
   "cell_type": "code",
   "execution_count": 19,
   "id": "c6eb8b91-8512-4e17-92d0-b5427edb76d5",
   "metadata": {},
   "outputs": [
    {
     "name": "stdout",
     "output_type": "stream",
     "text": [
      "      Art. 3.\n",
      " § 1. Uchyla się w szczególności ustawę z dn\n",
      "==============================\n",
      "ne \n",
      "     orzeczenie uchyla w całości lub w części. \n",
      " §\n",
      "==============================\n",
      "            skazany uchyla się w okresie próby od wykonani\n",
      "==============================\n",
      " art. 42:\n",
      "       a) skreśla się w ust. 1 pkt 5,\n",
      "       b) s\n",
      "==============================\n",
      "bne przepisy.\";\n",
      "21) skreśla się w dziale pierwszym{ }rozdzi\n",
      "==============================\n",
      "rzymuje w mocy albo uchyla w całości lub w części i w \n",
      "==============================\n",
      "la się pkt 3,\n",
      "   b) skreśla się w pkt 13 lit. b w pkt 1.\n",
      "  \n",
      "==============================\n",
      "zasowej, albo\n",
      "   4) uchyla w całości lub w części decy\n",
      "==============================\n",
      ";\n",
      "62) w art. 477{7} skreśla się w powołaniu wyrazy \"i 477{3\n",
      "==============================\n"
     ]
    }
   ],
   "source": [
    "reg = regex.compile(r\"(skreśla|uchyla)\\s+(si[ęe]\\s+)?w+\\s\", regex.IGNORECASE)\n",
    "\n",
    "for law in laws_content:\n",
    "    for match in reg.finditer(law):\n",
    "        start, end = match.span()\n",
    "        print(law[start-20:end + 25])\n",
    "        print(\"=\"*30)"
   ]
  },
  {
   "cell_type": "code",
   "execution_count": 28,
   "id": "207714cd-af71-46c0-97f1-9e32c65258f3",
   "metadata": {},
   "outputs": [
    {
     "name": "stdout",
     "output_type": "stream",
     "text": [
      "10\n"
     ]
    }
   ],
   "source": [
    "import collections\n",
    "phrase= r\"((skreśla|uchyla)\\s+(si[eę])?\\s+(w)?(\\d+|§|art|załącznik|zdania|tytuł|ust|oddział|rozdział|pkt|preambułę|lit|rozdziały|oznaczenie|poz.|zdanie))\"\n",
    "reg = regex.compile(phrase, regex.IGNORECASE)\n",
    "count_removal =  collections.defaultdict(lambda: 0)\n",
    "for i, law_act in enumerate(laws_content):\n",
    "    matches_iterator = reg.finditer(law_act)\n",
    "    for match in matches_iterator:\n",
    "        count_removal[law_paths[i]] += 1\n",
    "        \n",
    "print(count_removal[\"./ustawy/1999_1100.txt\"])"
   ]
  },
  {
   "cell_type": "code",
   "execution_count": null,
   "id": "71d9988b-b9ea-4ef5-a9e8-be50b76ddf42",
   "metadata": {},
   "outputs": [],
   "source": []
  },
  {
   "cell_type": "markdown",
   "id": "686a72db-ee0d-495a-904d-a30d95d7e974",
   "metadata": {},
   "source": [
    "### Otrzymuje:"
   ]
  },
  {
   "cell_type": "code",
   "execution_count": 40,
   "id": "e34e1cfa-d9c6-43ee-93be-85996ce1694a",
   "metadata": {},
   "outputs": [],
   "source": [
    "reg = regex.compile(r\"otrzymuj[eą] brzmienie\", regex.IGNORECASE)"
   ]
  },
  {
   "cell_type": "code",
   "execution_count": 41,
   "id": "35fe5df1-affe-44de-9f01-a2c2d34fe063",
   "metadata": {},
   "outputs": [
    {
     "name": "stdout",
     "output_type": "stream",
     "text": [
      "30c ust. 1\";\n",
      " \n",
      " 2) rozdział 3 otrzymuje brzmienie:\n",
      "                       \n",
      "==============================\n",
      "\";\n",
      " 4) w art. 4:\n",
      "   a) ust. 1 otrzymuje brzmienie:\n",
      "       \"1. Minister Rol\n",
      "==============================\n",
      "amach kwoty B.\",\n",
      "   b) ust. 2 otrzymuje brzmienie:\n",
      "       \"2. Ustalenie li\n",
      "==============================\n",
      "go producenta.\",\n",
      "   e) ust. 6 otrzymuje brzmienie:\n",
      "       \"6. Opłaty, o kt\n",
      "==============================\n",
      "soby uprawnione.\";\n",
      " 8) art. 8 otrzymuje brzmienie:\n",
      "        \"Art. 8. 1. Upr\n",
      "==============================\n",
      "tawie.\";\n",
      " 9) w art. 10 ust. 2 otrzymuje brzmienie:\n",
      "       \"2. Producenci c\n",
      "==============================\n",
      "      rolników.\";\n",
      "10) art. 11 otrzymuje brzmienie:\n",
      "         \"Art. 11. Do S\n",
      "==============================\n"
     ]
    }
   ],
   "source": [
    "for law in random_laws:\n",
    "    for match in reg.finditer(law):\n",
    "        start, end = match.span()\n",
    "        print(law[start-30:end + 25])\n",
    "        print(\"=\"*30)"
   ]
  },
  {
   "cell_type": "code",
   "execution_count": 42,
   "id": "a757dfa2-e345-4556-bc89-c7a7d27ee4f7",
   "metadata": {},
   "outputs": [],
   "source": [
    "reg = regex.compile(r\"\\s[\\w§1-9\\.]+\\s+[\\w§1-9\\.]+\\s+otrzymuj[eą]\\s+brzmienie\", regex.IGNORECASE)\n",
    "phrases = set()\n",
    "\n",
    "for law_act in laws_content:\n",
    "    for match in reg.finditer(law_act):\n",
    "        start, end = match.span()\n",
    "        phrases.add(\" \".join(law_act[start: end].split()[0:4]).lower())\n"
   ]
  },
  {
   "cell_type": "markdown",
   "id": "29ae3d53-4387-4162-9b68-1b11e28e3162",
   "metadata": {},
   "source": [
    "- 'załącznika otrzymuje brzmienie',\n",
    "-  §6 otrzymuje brzmienie'\n",
    "- 2 otrzymuje brzmienie'\n",
    "- ust.2 otrzymuje brzmienie',\n",
    "-opis otrzymuje brzmienie\n",
    "art bez kropki\n",
    " 'art. 9e otrzymuje brzmienie',\n",
    " 'art.23 ust.4 otrzymuje brzmienie',\n",
    " 'do ustawy otrzymuje brzmienie',\n",
    " 'do ustawy otrzymują brzmienie',\n",
    " 'do wyliczenia otrzymuje brzmienie',\n",
    " 'drugie zdanie otrzymuje brzmienie',\n",
    "'dział viii otrzymuje brzmienie',\n",
    " 'działu ii otrzymuje brzmienie',\n",
    "    'kategoria xi otrzymuje brzmienie',\n",
    "    lp. 9 otrzymuje brzmienie',\n",
    " 'nr 1 otrzymuje brzmienie',\n",
    " 'oddział 3 otrzymuje brzmienie',\n",
    "\n",
    " 'pkt 1 otrzymuje brzmienie',\n",
    "     'rozdział iia otrzymuje brzmienie',\n",
    " 'rozdział xi otrzymuje brzmienie',\n",
    " 'rozdziału 1 otrzymuje brzmienie',\n",
    "§6 otrzymuje brzmienie',\n",
    " ' 2 otrzymuje brzmienie',\n",
    " ' tiret otrzymuje brzmienie',\n",
    "    tytuł/u\n",
    " '§ 1 otrzymuje brzmienie',"
   ]
  },
  {
   "cell_type": "code",
   "execution_count": 67,
   "id": "8230f633-c9f0-4535-8cdd-09d1133f5584",
   "metadata": {},
   "outputs": [
    {
     "data": {
      "text/plain": [
       "5"
      ]
     },
     "execution_count": 67,
     "metadata": {},
     "output_type": "execute_result"
    }
   ],
   "source": [
    "single_phrase =  r\"(ust\\.\\d+|tiret|§\\d+)\\s+otrzymuj[eą]\\s+brzmienie\"\n",
    "phrase =  r\"(art\\.?|oddział|oddziału|tiret|lit\\.|nr|lp\\.|poz\\.|rozdział|rozdziału|pkt|ust\\.?)\\s+[\\w§]+\\s+otrzymuj[eą]\\s+brzmienie\"\n",
    "phrace_merged = r\"\\s+(single|longer_phrase)\".replace('single', single_phrase).replace('longer_phrase', phrase)\n",
    "\n",
    "reg = regex.compile(phrace_merged, regex.IGNORECASE)\n",
    "count_change =  collections.defaultdict(lambda: 0)\n",
    "\n",
    "for i, law_act in enumerate(laws_content):\n",
    "    matches_iterator = reg.finditer(law_act)\n",
    "    for match in matches_iterator:\n",
    "        count_change[law_paths[i]] += 1\n",
    "        \n",
    "count_change[\"./ustawy/1997_753.txt\"]"
   ]
  },
  {
   "cell_type": "markdown",
   "id": "818f5e33-8364-4d00-9c13-6a66a21de716",
   "metadata": {},
   "source": [
    "#### Plot results from point 1 showing how the percentage of amendments of a given type changed in the consecutive years"
   ]
  },
  {
   "cell_type": "code",
   "execution_count": 59,
   "id": "298b3466-ee71-433d-86e0-c2509e5c76f1",
   "metadata": {},
   "outputs": [],
   "source": [
    "# Get the year from file:\n",
    "\n",
    "reg = regex.compile(r\"U\\s?S\\s?T\\s?A\\s?W\\s?A\\s+(KONSTYTUCYJNA\\s+|BUDŻETOWA\\s+NA\\s+ROK\\s+\\d+\\s+\\s+)?z\\s+dnia\\s+\\d+\\s+\\w+\\s+\\d+\", regex.IGNORECASE) \n",
    "years = []\n",
    "years_of_files =  collections.defaultdict(lambda: 0)\n",
    "\n",
    "for i,law_act in enumerate(laws_content):\n",
    "    matches = reg.finditer(law_act)\n",
    "    for match in matches:\n",
    "        start, end = match.span()\n",
    "        years.append(law_act[start: end].split()[-1])\n",
    "        years_of_files[law_paths[i]] = law_act[start: end].split()[-1].lower()\n",
    "        break\n",
    "    \n"
   ]
  },
  {
   "cell_type": "code",
   "execution_count": 112,
   "id": "bc998fa9-a30a-4c11-ac3b-58f873ec6eec",
   "metadata": {},
   "outputs": [],
   "source": [
    "combined_amendments =   collections.defaultdict(lambda: 0)\n",
    "additions =  collections.defaultdict(lambda: 0)\n",
    "removals=  collections.defaultdict(lambda: 0)\n",
    "changes  =  collections.defaultdict(lambda: 0)\n",
    "\n",
    "for file, year in years_of_files.items():\n",
    "    additions[year] += count_additions[file]\n",
    "    removals[year] += count_removal[file]\n",
    "    changes[year] += count_change[file]\n",
    "    combined_amendments[year] += count_additions[file] + count_removal[file] +count_change[file]"
   ]
  },
  {
   "cell_type": "code",
   "execution_count": 81,
   "id": "2fcabe1e-c2db-4fac-bdf9-4683a00aabb8",
   "metadata": {},
   "outputs": [],
   "source": [
    "df = pd.dataframe()\n",
    "combine_percentage = {}\n",
    "for year in combined_amendments.keys():\n",
    "    df\n",
    "    combine_percentage[year] = {'Additions_perc' : round(additions[year]/combined_amendments[year]*100, 2),\n",
    "                                'Removals_perc': round(removals[year]/combined_amendments[year]*100, 2),\n",
    "                                'Changes_perc': round(changes[year]/combined_amendments[year]*100, 2)}\n"
   ]
  },
  {
   "cell_type": "markdown",
   "id": "b621dd8b-f0b1-444d-a0f4-70f0a4d6b293",
   "metadata": {},
   "source": [
    "Posortuj słownik o rokach:"
   ]
  },
  {
   "cell_type": "code",
   "execution_count": 109,
   "id": "c9ecbf50-3c69-4358-968e-1159eb74861f",
   "metadata": {},
   "outputs": [],
   "source": [
    "sorted_combine_percentage = collections.OrderedDict(sorted(combine_percentage.items()))"
   ]
  },
  {
   "cell_type": "code",
   "execution_count": 110,
   "id": "63e983a5-8b58-4037-94dd-e14c66a368ef",
   "metadata": {},
   "outputs": [
    {
     "data": {
      "image/png": "[encoded data removed]",
      "text/plain": [
       "<Figure size 1440x720 with 1 Axes>"
      ]
     },
     "metadata": {
      "needs_background": "light"
     },
     "output_type": "display_data"
    }
   ],
   "source": [
    "import pandas as pd\n",
    "df = pd.DataFrame(sorted_combine_percentage).T\n",
    "plt.rcParams[\"figure.figsize\"] = [20, 10]\n",
    "ax = df.plot(kind='bar', stacked=True)\n",
    "ax.set_axisbelow(True)\n",
    "ax.grid(axis='y')\n",
    "plt.xticks(range(len(sorted_combine_percentage.keys())), sorted_combine_percentage.keys())\n",
    "plt.xlabel('Year')\n",
    "plt.ylabel('Percentage')\n",
    "plt.title('Percentage of additions/removals/changes')\n",
    "plt.show()"
   ]
  },
  {
   "cell_type": "markdown",
   "id": "56d28653-ed43-4372-a991-3eef217d1971",
   "metadata": {},
   "source": [
    "### Compute the total number of occurrences of the word ustawa in any inflectional form (ustawa, ustawie, ustawę, etc.) and all spelling forms (ustawa, Ustawa, USTAWA), excluding other words with the same prefix (e.g. ustawić)."
   ]
  },
  {
   "cell_type": "code",
   "execution_count": 134,
   "id": "1c1e54d7-c4e9-42db-84a9-11e43e270360",
   "metadata": {},
   "outputs": [
    {
     "name": "stdout",
     "output_type": "stream",
     "text": [
      "{'ustawy', 'ustawodawstwem ', 'ustawa', 'ustawę', 'ustawodawczą ', 'ustawowy', 'ustawowych\\n', 'ustawami ', 'ustawodastw ', 'ustawa\\n', 'ustawodawcza ', 'ustawową\\n', 'ustawowych', 'ustawowe', 'ustawowego\\n', 'ustawowo\\n', 'ustawiczne ', 'ustawom', 'ustawowych ', 'ustawami', 'ustawianie ', 'ustawową ', 'ustawiacz', 'ustawami\\n', 'ustawą', 'ustawowym\\n', 'ustawicznego', 'ustawicznego ', 'ustawodawstw ', 'ustawowemu\\n', 'ustawy ', 'ustawowe ', 'ustawyz ', 'ustawiania ', 'ustaw1', 'ustawowego ', 'ustawowej\\n', 'ustawowy ', 'ustaworaz ', 'ustawodawstw\\n', 'ustawie', 'ustawodawczej', 'ustawodawczego ', 'ustawa\\xa0', 'ustawodawczą\\n', 'ustawowe\\n', 'ustawach ', 'ustawach\\n', 'ustawowi ', 'ustawodawczej ', 'ustawą ', 'ustawom ', 'ustawa ', 'ustawowej ', 'ustawowego', 'ustawowymi\\n', 'ustawiaczy ', 'ustawowymi ', 'ustawowymi', 'ustawodawczym', 'ustawodawcze ', 'ustawicznym ', 'ustawicznego\\n', 'ustawodawczego', 'ustawiania\\n', 'ustawy\\n', 'ustawodawstwu ', 'ustawach', 'ustawowym', 'ustawowy\\n', 'ustawie ', 'ustawą\\n', 'ustawowym ', 'ustawodawcza', 'ustawie\\n', 'ustawodawstwa ', 'ustawianiu ', 'ustawionych ', 'ustawowa ', 'ustawowej', 'ustawowo ', 'ustawia ', 'ustawowo', 'ustawę\\n', 'ustawy\\xa0', 'ustawione\\n', 'ustawione ', 'ustawę '}\n"
     ]
    }
   ],
   "source": [
    "reg = regex.compile(r\"ustaw\\w+\\s?\", regex.IGNORECASE)\n",
    "phrases = set()\n",
    "\n",
    "for law in laws_content:\n",
    "    for match in reg.finditer(law):\n",
    "        start, end = match.span()\n",
    "        phrases.add(law[start: end].lower())\n",
    "\n",
    "print(phrases)"
   ]
  },
  {
   "cell_type": "code",
   "execution_count": 159,
   "id": "8feac3bc-87b7-4094-a5d2-d3a0bf008f27",
   "metadata": {},
   "outputs": [
    {
     "name": "stdout",
     "output_type": "stream",
     "text": [
      "['USTAWA' 'USTAWY' 'USTAWa' 'Ustaw' 'Ustawa' 'Ustawie' 'Ustawy' 'Ustawę'\n",
      " 'ustaw' 'ustawA' 'ustawa' 'ustawach' 'ustawami' 'ustawie' 'ustawom'\n",
      " 'ustawy' 'ustawą' 'ustawę']\n",
      "number of occurences of word: ustawa - 24934\n"
     ]
    }
   ],
   "source": [
    "reg = regex.compile(r\"\\bustaw(y|a|ę|ach|ami|ą|ie|o|om)?\\b\", regex.IGNORECASE)\n",
    "counter = 0\n",
    "\n",
    "matches = []\n",
    "for law in laws_content:\n",
    "    for match in reg.finditer(law):\n",
    "        counter += 1\n",
    "        start, end = match.span()\n",
    "        matches.append(law[start: end])\n",
    "        \n",
    "print(np.unique(matches))\n",
    "print(f'number of occurences of word: ustawa - {counter}')"
   ]
  },
  {
   "cell_type": "markdown",
   "id": "e80fba64-09c6-4cb8-950a-252a09be6c49",
   "metadata": {},
   "source": [
    "### Compute the total number of occurrences of the same word (same conditions), followed by z dnia expression."
   ]
  },
  {
   "cell_type": "markdown",
   "id": "46861bfd-11b0-4156-b05a-99460deb5cbc",
   "metadata": {},
   "source": [
    "Definitions:\n",
    "Look ahead positive (?=)"
   ]
  },
  {
   "cell_type": "code",
   "execution_count": 160,
   "id": "74b285df-21d1-47ec-a95e-82a589286f9a",
   "metadata": {},
   "outputs": [
    {
     "name": "stdout",
     "output_type": "stream",
     "text": [
      "number of occurences of word: ustawa - 8587  followed by z dnia\n"
     ]
    }
   ],
   "source": [
    "reg = regex.compile(r\"\\bustaw(y|a|ę|ach|ami|ą|ie|o|om)?\\b(?=\\s+z\\s+dnia\\b)\", regex.IGNORECASE)\n",
    "counter_followed_by = 0\n",
    "\n",
    "for law in laws_content:\n",
    "    for match in reg.finditer(law):\n",
    "        counter_followed_by += 1\n",
    "\n",
    "print(f'number of occurences of word: ustawa - {counter_followed_by}  followed by z dnia')"
   ]
  },
  {
   "cell_type": "markdown",
   "id": "2f69c602-8206-4dab-84b6-7f8dad8021c2",
   "metadata": {
    "tags": []
   },
   "source": [
    "### As above, but not followed by z dnia expression. Is the result correct (result 4 =? result 5 + result 6)?"
   ]
  },
  {
   "cell_type": "markdown",
   "id": "ab0bf346-a4ac-44a6-9cb6-27bccf1efe97",
   "metadata": {},
   "source": [
    "Look ahead negative (?!)\n",
    "Find expression A where expression B does not follow:"
   ]
  },
  {
   "cell_type": "code",
   "execution_count": 167,
   "id": "3e06f7dc-1e48-4a0f-879f-452746a8f6ef",
   "metadata": {},
   "outputs": [
    {
     "name": "stdout",
     "output_type": "stream",
     "text": [
      "number of occurences of word: ustawa - 16347  followed by z dnia\n"
     ]
    }
   ],
   "source": [
    "reg = regex.compile(r\"\\bustaw(y|a|ę|ach|ami|ą|ie|o|om)?\\b(?!\\s+z\\s+dnia\\b)\", regex.IGNORECASE)\n",
    "counter_not_followed_by = 0\n",
    "\n",
    "for law in laws_content:\n",
    "    for match in reg.finditer(law):\n",
    "        counter_not_followed_by += 1\n",
    "\n",
    "print(f'number of occurences of word: ustawa - {counter_not_followed_by}  followed by z dnia')"
   ]
  },
  {
   "cell_type": "code",
   "execution_count": 155,
   "id": "f75722ca-93f2-4961-bba9-1982a13fe075",
   "metadata": {},
   "outputs": [
    {
     "name": "stdout",
     "output_type": "stream",
     "text": [
      "It's good\n"
     ]
    }
   ],
   "source": [
    "if counter_not_followed_by + counter_followed_by == counter:\n",
    "    print(\"It's good\")"
   ]
  },
  {
   "cell_type": "markdown",
   "id": "f368c62b-4de8-4e3c-8e41-f682bbd82c20",
   "metadata": {},
   "source": [
    "### Compute the total number of occurrences of the word ustawa in any inflectional form, excluding occurrences following o zmianie expression."
   ]
  },
  {
   "cell_type": "markdown",
   "id": "0de711cd-0395-43d5-9abc-2ee73950e504",
   "metadata": {},
   "source": [
    "\n",
    "(?<=B)A\n",
    "Look behind negative (?<!)\n",
    "Find expression A where expression B does not precede:"
   ]
  },
  {
   "cell_type": "code",
   "execution_count": 164,
   "id": "adb041a2-64eb-496d-b556-8728f264ff0c",
   "metadata": {},
   "outputs": [
    {
     "name": "stdout",
     "output_type": "stream",
     "text": [
      "number of occurences of word: ustawa - 24068 excluding occurrences following o zmianie expression\n"
     ]
    }
   ],
   "source": [
    "reg = regex.compile(r\"(?<!o\\s+zmianie\\s+)\\bustaw(y|a|ę|ach|ami|ą|ie|o|om)?\\b\", regex.IGNORECASE)\n",
    "counter_expression_precedes = 0\n",
    "\n",
    "for law in laws_content:\n",
    "    for match in reg.finditer(law):\n",
    "        counter_expression_precedes += 1\n",
    "\n",
    "print(f'number of occurences of word: ustawa - {counter_expression_precedes} excluding occurrences following o zmianie expression')"
   ]
  },
  {
   "cell_type": "markdown",
   "id": "3ca013a3-8cc0-4420-a95c-c87fc15f6eea",
   "metadata": {},
   "source": [
    "### Plot results 4-7 using a bar chart"
   ]
  },
  {
   "cell_type": "code",
   "execution_count": 174,
   "id": "20e0d739-32b8-41a5-bad0-a81c4f854ea8",
   "metadata": {},
   "outputs": [
    {
     "data": {
      "image/png": "[encoded data removed]",
      "text/plain": [
       "<Figure size 720x432 with 1 Axes>"
      ]
     },
     "metadata": {
      "needs_background": "light"
     },
     "output_type": "display_data"
    }
   ],
   "source": [
    "data = [counter, counter_followed_by,counter_not_followed_by, counter_expression_precedes]\n",
    "xticks = ['All occurences', 'Followed by \"z dnia\"', 'Not followed by \"z dnia\"', '\"o zmianie\" not precedes']\n",
    "plt.title('Occurences of the word \"ustawa\" in. any inflectional form')\n",
    "plt.bar([i for i in range(4)], data)\n",
    "for i in range(4):\n",
    "    plt.annotate(data[i], (i-0.16, data[i]-2000), color='white', size=15)\n",
    "plt.xticks(range(len(xticks)), xticks)\n",
    "plt.ylabel('Number of occurences')\n",
    "plt.show()"
   ]
  }
 ],
 "metadata": {
  "kernelspec": {
   "display_name": "Python 3 (ipykernel)",
   "language": "python",
   "name": "python3"
  },
  "language_info": {
   "codemirror_mode": {
    "name": "ipython",
    "version": 3
   },
   "file_extension": ".py",
   "mimetype": "text/x-python",
   "name": "python",
   "nbconvert_exporter": "python",
   "pygments_lexer": "ipython3",
   "version": "3.9.12"
  }
 },
 "nbformat": 4,
 "nbformat_minor": 5
}
