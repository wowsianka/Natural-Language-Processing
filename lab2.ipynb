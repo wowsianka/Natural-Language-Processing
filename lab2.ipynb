{
 "cells": [
  {
   "cell_type": "code",
   "execution_count": 1,
   "id": "a1eeba7c-158d-452c-a506-3113052ac7ef",
   "metadata": {},
   "outputs": [],
   "source": [
    "import requests\n",
    "import os\n",
    "import numpy as np\n",
    "from elasticsearch import Elasticsearch"
   ]
  },
  {
   "cell_type": "code",
   "execution_count": 51,
   "id": "317be366-3968-4cc1-acc4-5bfafa48f797",
   "metadata": {},
   "outputs": [
    {
     "name": "stderr",
     "output_type": "stream",
     "text": [
      "/opt/homebrew/anaconda3/envs/RecSys/lib/python3.9/site-packages/elasticsearch/_sync/client/__init__.py:395: SecurityWarning: Connecting to 'https://localhost:9200' using TLS with verify_certs=False is insecure\n"
     ]
    }
   ],
   "source": [
    "es = Elasticsearch(\n",
    "hosts=[\"https://localhost:9200\"],\n",
    "basic_auth = (\"elastic\", \"pbP0lDZ+pgqG*49D0WG6\"),\n",
    "    # ca_certs=\"/Users/wowsianka/Downloads/elasticsearch-8.4.3/config/certs/http_ca.crt\")\n",
    "    # ,\n",
    "verify_certs = False)\n"
   ]
  },
  {
   "cell_type": "code",
   "execution_count": 52,
   "id": "eaded0cb-8b64-4b9d-a739-e2af46a2c8bf",
   "metadata": {},
   "outputs": [
    {
     "name": "stderr",
     "output_type": "stream",
     "text": [
      "/opt/homebrew/anaconda3/envs/RecSys/lib/python3.9/site-packages/urllib3/connectionpool.py:1045: InsecureRequestWarning: Unverified HTTPS request is being made to host 'localhost'. Adding certificate verification is strongly advised. See: https://urllib3.readthedocs.io/en/1.26.x/advanced-usage.html#ssl-warnings\n",
      "  warnings.warn(\n"
     ]
    },
    {
     "data": {
      "text/plain": [
       "True"
      ]
     },
     "execution_count": 52,
     "metadata": {},
     "output_type": "execute_result"
    }
   ],
   "source": [
    "es.ping()"
   ]
  },
  {
   "cell_type": "code",
   "execution_count": 53,
   "id": "febb492b-43d7-4e77-b799-c4c3f752a2dd",
   "metadata": {},
   "outputs": [
    {
     "name": "stderr",
     "output_type": "stream",
     "text": [
      "/opt/homebrew/anaconda3/envs/RecSys/lib/python3.9/site-packages/urllib3/connectionpool.py:1045: InsecureRequestWarning: Unverified HTTPS request is being made to host 'localhost'. Adding certificate verification is strongly advised. See: https://urllib3.readthedocs.io/en/1.26.x/advanced-usage.html#ssl-warnings\n",
      "  warnings.warn(\n"
     ]
    },
    {
     "data": {
      "text/plain": [
       "ObjectApiResponse({'name': 'C12243', 'cluster_name': 'elasticsearch', 'cluster_uuid': 'LInjBR9NS_yqalgLzfMxug', 'version': {'number': '8.4.3', 'build_flavor': 'default', 'build_type': 'tar', 'build_hash': '42f05b9372a9a4a470db3b52817899b99a76ee73', 'build_date': '2022-10-04T07:17:24.662462378Z', 'build_snapshot': False, 'lucene_version': '9.3.0', 'minimum_wire_compatibility_version': '7.17.0', 'minimum_index_compatibility_version': '7.0.0'}, 'tagline': 'You Know, for Search'})"
      ]
     },
     "execution_count": 53,
     "metadata": {},
     "output_type": "execute_result"
    }
   ],
   "source": [
    "es.info()"
   ]
  },
  {
   "cell_type": "markdown",
   "id": "7b9efe95-cfc8-4601-9e7c-80be3b292fa3",
   "metadata": {},
   "source": [
    "#### Define an ES analyzer for Polish texts containing:\n",
    "   - standard tokenizer\n",
    "    - synonym filter with the following definitions:\n",
    "   -  kpk - kodeks postępowania karnego\n",
    "   - kpc - kodeks postępowania cywilnego\n",
    "   - kk - kodeks karny\n",
    "   - kc - kodeks cywilny\n",
    "   - Morfologik-based lemmatizer\n",
    "  -  lowercase filter\n",
    "  \n",
    "Define an ES index for storing the contents of the legislative acts."
   ]
  },
  {
   "cell_type": "markdown",
   "id": "4f61a61a-dbc6-4fb2-9b85-5369a2c3559d",
   "metadata": {},
   "source": [
    "The analyzer parameter specifies the analyzer used for text analysis when indexing or searching a text field."
   ]
  },
  {
   "cell_type": "markdown",
   "id": "7bc0576e-99ad-4c24-9e55-c651a21ed44e",
   "metadata": {},
   "source": [
    "Index z analyzer z synonimami kodeksów, Morfologik lematyzator i lowercase filter:\n"
   ]
  },
  {
   "cell_type": "code",
   "execution_count": 59,
   "id": "55fb3a81-7aef-47b1-99ca-7ac3f2c10ced",
   "metadata": {},
   "outputs": [
    {
     "data": {
      "text/plain": [
       "ObjectApiResponse({'acknowledged': True})"
      ]
     },
     "execution_count": 59,
     "metadata": {},
     "output_type": "execute_result"
    }
   ],
   "source": [
    "es.indices.delete(index='example_index')\n"
   ]
  },
  {
   "cell_type": "code",
   "execution_count": 57,
   "id": "04f404cb-be21-44ad-87e1-965d86ded853",
   "metadata": {},
   "outputs": [],
   "source": [
    "import warnings\n",
    "warnings.filterwarnings('ignore')"
   ]
  },
  {
   "cell_type": "code",
   "execution_count": 60,
   "id": "5b01b661-2b74-4c17-825f-b2d6f7483f3e",
   "metadata": {},
   "outputs": [
    {
     "data": {
      "text/plain": [
       "ObjectApiResponse({'acknowledged': True, 'shards_acknowledged': True, 'index': 'example_index'})"
      ]
     },
     "execution_count": 60,
     "metadata": {},
     "output_type": "execute_result"
    }
   ],
   "source": [
    "request_body = {\n",
    "   \"settings\":{\n",
    "      \"analysis\":{\n",
    "         \"analyzer\":{\n",
    "            \"my_analyzer\":{ \n",
    "               \"type\":\"custom\",\n",
    "               \"tokenizer\":\"standard\",\n",
    "               \"filter\":[\n",
    "                   'my_synonym', 'morfologik_stem', \"lowercase\"\n",
    "               ]\n",
    "            },\n",
    "         \n",
    "         },\n",
    "         \"filter\":{\n",
    "            \"my_synonym\":{\n",
    "               \"type\":\"synonym\",\n",
    "               \"synonyms\": [ \n",
    "                            \"kpk => kodeks postępowania karnego\",\n",
    "                            \"kpc => kodeks postępowania cywilnego\",\n",
    "                            \"kk => kodeks karny\",\n",
    "                            \"kc => kodeks cywilny\"]\n",
    "            }\n",
    "         }\n",
    "      }\n",
    "   },\n",
    "   \"mappings\":{\n",
    "       \"properties\":{\n",
    "          \"data\": {\n",
    "             \"type\":\"text\",\n",
    "             \"analyzer\":\"my_analyzer\"\n",
    "          }\n",
    "      }\n",
    "   }\n",
    "}\n",
    "es.indices.create(index = \"example_index\", body = request_body)"
   ]
  },
  {
   "cell_type": "markdown",
   "id": "8db914fd-3b00-47dd-a9b6-322628798ace",
   "metadata": {},
   "source": [
    "#### Load the data to the ES index."
   ]
  },
  {
   "cell_type": "code",
   "execution_count": 61,
   "id": "203e9eb6-f0de-4388-a2a5-9c65a293ebaf",
   "metadata": {},
   "outputs": [],
   "source": [
    "file_names = []\n",
    "for file in os.listdir('./ustawy'):\n",
    "    file_names.append(file)\n",
    "\n",
    "file_names.remove('.DS_Store')\n",
    "file_names.remove('.ipynb_checkpoints')\n"
   ]
  },
  {
   "cell_type": "code",
   "execution_count": 64,
   "id": "9892f6dc-4306-4fbe-b41d-eafbb1a9420b",
   "metadata": {},
   "outputs": [],
   "source": [
    "for file in file_names:\n",
    "    with open(\"ustawy\" + '/' + file, 'r') as f:\n",
    "        content = f.read()\n",
    "        # es.create(\"example_index\", file, {\"data\": data})\n",
    "        doc = {'data': content}\n",
    "        es.index(index = \"example_index\", id = file[:-4], body = doc)"
   ]
  },
  {
   "cell_type": "code",
   "execution_count": 65,
   "id": "0b9def05-8eb7-472e-9218-16f44f601050",
   "metadata": {},
   "outputs": [
    {
     "data": {
      "text/plain": [
       "1178"
      ]
     },
     "execution_count": 65,
     "metadata": {},
     "output_type": "execute_result"
    }
   ],
   "source": [
    "es.count(index=\"example_index\")['count']\n",
    "\n"
   ]
  },
  {
   "cell_type": "markdown",
   "id": "5091d28b-8a29-4f3e-b72f-743f56a654ad",
   "metadata": {
    "tags": []
   },
   "source": [
    "#### 6.Determine the number of legislative acts containing the word ustawa (in any form)."
   ]
  },
  {
   "cell_type": "code",
   "execution_count": 10,
   "id": "ddf9bd41-df35-4259-beef-7f296d6091f8",
   "metadata": {},
   "outputs": [
    {
     "name": "stderr",
     "output_type": "stream",
     "text": [
      "/var/folders/tk/5b6jb4s56hgfr9kt8prkrgfr0000gn/T/ipykernel_83265/3496860262.py:7: DeprecationWarning: The 'body' parameter is deprecated and will be removed in a future version. Instead use individual parameters.\n",
      "  res =  es.search(index=\"example_index\", body=query)\n"
     ]
    },
    {
     "data": {
      "text/plain": [
       "{'value': 1178, 'relation': 'eq'}"
      ]
     },
     "execution_count": 10,
     "metadata": {},
     "output_type": "execute_result"
    }
   ],
   "source": [
    "query = {\"query\":{\n",
    "                \"match\": {\n",
    "                    \"data\": \"ustawa\"\n",
    "                }\n",
    "            }\n",
    "        }\n",
    "res =  es.search(index=\"example_index\", body=query)\n",
    "res['hits']['total']\n",
    "\n",
    "\n"
   ]
  },
  {
   "cell_type": "markdown",
   "id": "01fef5c5-dda8-4b87-823a-29691db3b744",
   "metadata": {},
   "source": [
    "#### 7. Determine the number of occurrences of the word ustawa by searching for this particular form, including the other inflectional forms."
   ]
  },
  {
   "cell_type": "markdown",
   "id": "265b3c94-3f87-4bea-894d-3a49ac1880cb",
   "metadata": {},
   "source": [
    "The size parameter only tells how many hits should be returned in the response, so if you specify size: 10000 and 200000 records match, you'll get 10000 matching documents in the result hits, but total will state 200000"
   ]
  },
  {
   "cell_type": "code",
   "execution_count": 37,
   "id": "99d5b600-9737-4a3f-8fb7-324abac4a758",
   "metadata": {},
   "outputs": [
    {
     "name": "stderr",
     "output_type": "stream",
     "text": [
      "/var/folders/tk/5b6jb4s56hgfr9kt8prkrgfr0000gn/T/ipykernel_83265/2082252403.py:17: DeprecationWarning: Passing transport options in the API method is deprecated. Use 'Elasticsearch.options()' instead.\n",
      "  res =  es.search(index=\"example_index\", body=query, request_timeout=30)\n",
      "/var/folders/tk/5b6jb4s56hgfr9kt8prkrgfr0000gn/T/ipykernel_83265/2082252403.py:17: DeprecationWarning: The 'body' parameter is deprecated and will be removed in a future version. Instead use individual parameters.\n",
      "  res =  es.search(index=\"example_index\", body=query, request_timeout=30)\n"
     ]
    }
   ],
   "source": [
    "query = {\n",
    "    \"query\": {\n",
    "        \"match\": {\n",
    "            \"data\": \"ustawa\"\n",
    "        }\n",
    "    },\n",
    "    \"highlight\": {\n",
    "        \"fields\": {\n",
    "            \"data\": {\n",
    "                \"number_of_fragments\": 1000, #The maximum number of fragments to return.\n",
    "                \"fragment_size\": 1 #The size of the highlighted fragment in characters. Defaults to 100.\n",
    "            }\n",
    "        }\n",
    "     },\n",
    "    \"size\": 2000 # The size parameter is the maximum number of hits to return\n",
    "}\n",
    "res =  es.search(index=\"example_index\", body=query, request_timeout=30)\n"
   ]
  },
  {
   "cell_type": "code",
   "execution_count": 38,
   "id": "626842e5-3a95-4fa9-b411-f8293b915f38",
   "metadata": {},
   "outputs": [
    {
     "data": {
      "text/plain": [
       "24934"
      ]
     },
     "execution_count": 38,
     "metadata": {},
     "output_type": "execute_result"
    }
   ],
   "source": [
    "counter = 0\n",
    "for hit in res['hits']['hits']:\n",
    "    counter += len(hit['highlight']['data'])\n",
    "counter"
   ]
  },
  {
   "cell_type": "markdown",
   "id": "c7decfb8-27ee-4d07-ab5e-3fefb88168cf",
   "metadata": {},
   "source": [
    "#### Determine the number of occurrences of the word ustaw by searching for this particular form, including the other inflectional forms."
   ]
  },
  {
   "cell_type": "markdown",
   "id": "509b7b81-d387-4d9d-9b84-19c5d720ad21",
   "metadata": {},
   "source": [
    "wowsianka@C12243 ~> curl -XGET -u \"elastic:pbP0lDZ+pgqG*49D0WG6\" --cacert /Users/wowsianka/Downloads/elasticsearch-8.4.3/config/certs/http_ca.crt \"https://localhost:9200/example_index/_analyze\" -H 'Content-Type: application/json' -d' (RecSys)\n",
    "                    {\n",
    "                      \"analyzer\": \"my_analyzer\",\n",
    "                      \"text\": \"ustaw\"\n",
    "                    }'\n",
    "{\"tokens\":[{\"token\":\"ustawa\",\"start_offset\":0,\"end_offset\":5,\"type\":\"<ALPHANUM>\",\"position\":0},{\"token\":\"ustawić\",\"start_offset\":0,\"end_offset\":5,\"type\":\"<ALPHANUM>\",\"position\":0}]}⏎\n"
   ]
  },
  {
   "cell_type": "code",
   "execution_count": 80,
   "id": "ef0fc129-e7cb-453c-a96d-16e954a0b469",
   "metadata": {},
   "outputs": [
    {
     "data": {
      "text/plain": [
       "913"
      ]
     },
     "execution_count": 80,
     "metadata": {},
     "output_type": "execute_result"
    }
   ],
   "source": [
    "query7 = {\n",
    "    \"query\": {\n",
    "        \"match\": {\n",
    "            \"data\": \"ustawić\"\n",
    "        }\n",
    "    },\n",
    "    \"highlight\": {\n",
    "        \"fields\": {\n",
    "            \"data\": {\n",
    "                \"number_of_fragments\": 1000, #The maximum number of fragments to return.\n",
    "                \"fragment_size\": 1 #The size of the highlighted fragment in characters. Defaults to 100.\n",
    "            }\n",
    "        }\n",
    "     },\n",
    "    \"size\": 2000 # The size parameter is the maximum number of hits to return\n",
    "}\n",
    "res7 =  es.search(index=\"example_index\", body=query7, request_timeout=30)\n",
    "counter7 = 0\n",
    "for hit in res7['hits']['hits']:\n",
    "    counter7 += len(hit['highlight']['data'])\n",
    "counter7"
   ]
  },
  {
   "cell_type": "code",
   "execution_count": 75,
   "id": "557b8526-84f9-4378-b24c-2425b4f5a1f1",
   "metadata": {},
   "outputs": [
    {
     "name": "stdout",
     "output_type": "stream",
     "text": [
      "25847\n"
     ]
    }
   ],
   "source": [
    "print(counter7 + counter)"
   ]
  },
  {
   "cell_type": "markdown",
   "id": "facd47b0-f57c-4e80-8763-47d1470ebbd2",
   "metadata": {},
   "source": [
    "#### Determine the number of legislative acts containing the words kodeks postępowania cywilnego in the specified order, but in any inflection form."
   ]
  },
  {
   "cell_type": "code",
   "execution_count": 76,
   "id": "816ce2b2-eaa9-4806-8593-497787e35c53",
   "metadata": {},
   "outputs": [
    {
     "data": {
      "text/plain": [
       "{'value': 99, 'relation': 'eq'}"
      ]
     },
     "execution_count": 76,
     "metadata": {},
     "output_type": "execute_result"
    }
   ],
   "source": [
    "query = {\"query\": {\n",
    "                \"match_phrase\": {\n",
    "                    \"data\": {\n",
    "                        \"query\": \"kodeks postępowania cywilnego\"\n",
    "                            }\n",
    "                        }\n",
    "                    }\n",
    "            }\n",
    "\n",
    "res =  es.search(index=\"example_index\", body=query)\n",
    "res['hits']['total']\n",
    "\n"
   ]
  },
  {
   "cell_type": "markdown",
   "id": "8d6e9e7c-d38b-4e3e-b5b7-800ce299787b",
   "metadata": {},
   "source": [
    "#### Determine the number of legislative acts containing the words wchodzi w życie (in any form) allowing for up to 2 additional words in the searched phrase."
   ]
  },
  {
   "cell_type": "code",
   "execution_count": 78,
   "id": "c8255d39-2977-4761-ac30-b58087eda74b",
   "metadata": {},
   "outputs": [
    {
     "data": {
      "text/plain": [
       "{'value': 1174, 'relation': 'eq'}"
      ]
     },
     "execution_count": 78,
     "metadata": {},
     "output_type": "execute_result"
    }
   ],
   "source": [
    "query = {\n",
    "    \"query\": {\n",
    "        \"match_phrase\": {\n",
    "            \"data\": {\n",
    "                \"query\": \"wchodzi w życie\",\n",
    "                \"slop\": 2\n",
    "            }\n",
    "        }\n",
    "    }\n",
    "}\n",
    "res =  es.search(index=\"example_index\", body=query)\n",
    "res['hits']['total']\n",
    "\n"
   ]
  },
  {
   "cell_type": "markdown",
   "id": "0853aa6f-60ad-4b4d-b1fa-54ee6b3c21f8",
   "metadata": {},
   "source": [
    "#### Determine the 10 documents that are the most relevant for the phrase konstytucja."
   ]
  },
  {
   "cell_type": "code",
   "execution_count": 90,
   "id": "666a8c7d-6217-466c-bbf1-3c97faceb820",
   "metadata": {},
   "outputs": [
    {
     "name": "stdout",
     "output_type": "stream",
     "text": [
      "Ustawa 1997_629 - score 6.8817687\n",
      "Ustawa 2000_443 - score 6.6758547\n",
      "Ustawa 1997_604 - score 6.644713\n",
      "Ustawa 1996_350 - score 6.6397324\n",
      "Ustawa 1997_642 - score 6.2639\n",
      "Ustawa 2001_23 - score 6.068482\n",
      "Ustawa 1996_199 - score 5.9381456\n",
      "Ustawa 1999_688 - score 5.86007\n",
      "Ustawa 2001_1082 - score 5.4758835\n",
      "Ustawa 1997_681 - score 5.4758835\n"
     ]
    }
   ],
   "source": [
    "# Allows you to add one or more sorts on specific fields. \n",
    "# Each sort can be reversed as well. The sort is defined on a per field level, with special field name for _score to sort by score\n",
    "query = {\n",
    "    \"query\": {\n",
    "        \"match\": {\n",
    "            \"data\": {\n",
    "                \"query\": \"konstytucja\",\n",
    "                \n",
    "            }\n",
    "        }\n",
    "    },\n",
    "    \"sort\": [\n",
    "        {\n",
    "            \"_score\": {\n",
    "                \"order\": \"desc\"\n",
    "            }\n",
    "        }\n",
    "    ]\n",
    "}\n",
    "\n",
    "res = es.search(index='example_index', body=query)\n",
    "for hit in res['hits']['hits']:\n",
    "    print(f\"Ustawa {hit['_id']} - score {hit['_score']}\")"
   ]
  },
  {
   "cell_type": "markdown",
   "id": "a7e9ca3d-1bdb-4eb9-b79c-2c5154f32415",
   "metadata": {},
   "source": [
    "#### Print the excerpts containing the word konstytucja (up to three excerpts per document) from the previous task."
   ]
  },
  {
   "cell_type": "code",
   "execution_count": 97,
   "id": "64d0df96-fba7-4a05-b4ac-96661ddb7a1c",
   "metadata": {},
   "outputs": [],
   "source": [
    "query = {\n",
    "    \"query\": {\n",
    "        \"match\": {\n",
    "            \"data\": {\n",
    "                \"query\": \"konstytucja\",\n",
    "                \n",
    "            }\n",
    "        }\n",
    "    },\n",
    "    \"sort\": [\n",
    "        {\n",
    "            \"_score\": {\n",
    "                \"order\": \"desc\"\n",
    "            }\n",
    "        }\n",
    "    ],\n",
    "    \n",
    "    \"highlight\": {\n",
    "        \"fields\": {\n",
    "            \"data\": {\n",
    "                \"number_of_fragments\": 3, #The maximum number of fragments to return.\n",
    "                # \"fragment_size\": 10 #The size of the highlighted fragment in characters. Defaults to 100.\n",
    "            }\n",
    "        }\n",
    "     },\n",
    "    \"size\": 200 # The size parameter is the maximum number of hits to return\n",
    "}\n",
    "\n",
    "\n",
    "res = es.search(index='example_index', body=query)\n"
   ]
  },
  {
   "cell_type": "code",
   "execution_count": 98,
   "id": "72a21964-c72a-42d9-bbf4-c6ac0cae1ee9",
   "metadata": {},
   "outputs": [
    {
     "name": "stdout",
     "output_type": "stream",
     "text": [
      "Ustawa 1997_629 - score 6.8817687\n",
      "o zmianie ustawy konstytucyjnej o trybie przygotowania\n",
      "           i uchwalenia <em>Konstytucji</em> Rzeczypospolitej\n",
      "==============\n",
      "W ustawie  konstytucyjnej z  dnia 23 kwietnia 1992 r. o trybie przygotowania i \n",
      "uchwalenia <em>Konstytucji</em>\n",
      "==============\n",
      "Do zgłoszenia projektu <em>Konstytucji</em> załącza się wykaz \n",
      "                obywateli popierających zgłoszenie\n",
      "==============\n",
      "Ustawa 2000_443 - score 6.6758547\n",
      "umowy międzynarodowej i nie wypełnia przesłanek określonych w art. 89\n",
      "     ust. 1 lub art. 90 <em>Konstytucji</em>\n",
      "==============\n",
      "międzynarodowej lub załącznika nie\n",
      "     wypełnia przesłanek określonych w art. 89 ust. 1 lub art. 90 <em>Konstytucji</em>\n",
      "==============\n",
      "co do zasadności wyboru\n",
      "  trybu ratyfikacji umowy międzynarodowej, o którym mowa w art. 89 ust. 2\n",
      "  <em>Konstytucji</em>\n",
      "==============\n",
      "Ustawa 1997_604 - score 6.644713\n",
      "Jeżeli Trybunał Konstytucyjny wyda orzeczenie o sprzeczności celów partii \n",
      "   politycznej z <em>Konstytucją</em>\n",
      "==============\n",
      "Jeżeli Trybunał Konstytucyjny wyda orzeczenie o sprzeczności z <em>Konstytucją</em>\n",
      "   celów lub działalności\n",
      "==============\n",
      "Ciężar udowodnienia niezgodności z <em>Konstytucją</em> spoczywa\n",
      "                na wnioskodawcy, który w tym\n",
      "==============\n",
      "Ustawa 1996_350 - score 6.6397324\n",
      "Za naruszenie <em>Konstytucji</em> lub ustawy, w związku z zajmowanym\n",
      "              stanowiskiem lub w zakresie\n",
      "==============\n",
      "W zakresie określonym w art. 107 <em>Konstytucji</em> odpowiedzialność przed\n",
      "           Trybunałem Stanu ponoszą\n",
      "==============\n",
      "Członkowie Rady Ministrów ponoszą odpowiedzialność przed Trybunałem\n",
      "           Stanu za naruszenie <em>Konstytucji</em>\n",
      "==============\n",
      "Ustawa 1997_642 - score 6.2639\n",
      "wnioskami o:\n",
      "             1) stwierdzenie zgodności ustaw i umów międzynarodowych z\n",
      "               <em>Konstytucją</em>\n",
      "==============\n",
      "stwierdzenie zgodności przepisów prawa wydawanych przez\n",
      "               centralne organy państwowe, z <em>Konstytucją</em>\n",
      "==============\n",
      "ratyfikowanymi\n",
      "               umowami międzynarodowymi i ustawami,\n",
      "             4) stwierdzenie zgodności z <em>Konstytucją</em>\n",
      "==============\n",
      "Ustawa 2001_23 - score 6.068482\n",
      "W Dzienniku Ustaw Rzeczypospolitej Polskiej, zwanym dalej \"Dziennikiem\n",
      "  Ustaw\", ogłasza się:\n",
      "   1) <em>Konstytucję</em>\n",
      "==============\n",
      "akty prawne dotyczące:\n",
      "   1) stanu wojny i zawarcia pokoju,\n",
      "   2) referendum zatwierdzającego zmianę <em>Konstytucji</em>\n",
      "==============\n",
      "ministra, któremu Sejm wyraził wotum nieufności,\n",
      "     h) powoływania lub odwoływania na określone w <em>Konstytucji</em>\n",
      "==============\n",
      "Ustawa 1996_199 - score 5.9381456\n",
      "2c i art. 9-11 ustawy konstytucyjnej z dnia 23 kwietnia \n",
      "1992 r. o trybie przygotowania i uchwalenia <em>Konstytucji</em>\n",
      "==============\n",
      "Prezydent Rzeczypospolitej Polskiej zarządza poddanie <em>Konstytucji</em> pod referendum\n",
      "   w trybie określonym\n",
      "==============\n",
      "Przyjęcie w referendum <em>Konstytucji</em> następuje wówczas, gdy opowiedziała \n",
      "   się za nią większość biorących\n",
      "==============\n",
      "Ustawa 1999_688 - score 5.86007\n",
      "postępowania w sprawie wykonywania inicjatywy\n",
      "ustawodawczej przez obywateli, o której mowa w art. 118 ust. 2 <em>Konstytucji</em>\n",
      "==============\n",
      "Projekt ustawy nie może dotyczyć spraw, dla których <em>Konstytucja</em>\n",
      "Rzeczypospolitej Polskiej zastrzega wyłączną\n",
      "==============\n",
      "Projekt ustawy wniesiony do Marszałka Sejmu powinien odpowiadać wymogom\n",
      "  zawartym w <em>Konstytucji</em> i Regulaminie\n",
      "==============\n",
      "Ustawa 2001_1082 - score 5.4758835\n",
      "Krajowa Rada Sądownictwa, zwana dalej \"Radą\", realizuje cele określone w\n",
      "  <em>Konstytucji</em> Rzeczypospolitej\n",
      "==============\n",
      ") podejmuje uchwały w sprawach wystąpienia do Trybunału Konstytucyjnego o\n",
      "     zbadanie zgodności z <em>Konstytucją</em>\n",
      "==============\n",
      "Ustawa 1997_681 - score 5.4758835\n",
      "Rzecznik Praw Dziecka, zwany dalej Rzecznikiem, stoi na straży praw dziecka\n",
      "  określonych w <em>Konstytucji</em>\n",
      "==============\n",
      "uroczyście, że przy wykonywaniu powierzonych mi obowiązków\n",
      "     Rzecznika Praw Dziecka dochowam wierności <em>Konstytucji</em>\n",
      "==============\n",
      "Ustawa 2001_247 - score 4.801021\n",
      "wobec kandydatów na\n",
      "         członków Rady Ministrów powoływanych w trybie art. 154 i 155\n",
      "         <em>Konstytucji</em>\n",
      "==============\n",
      "stanowiska, o których mowa w ust. 6, z\n",
      "       wyłączeniem kandydatów powoływanych w trybie art. 154 i 155 <em>Konstytucji</em>\n",
      "==============\n",
      "Ustawa 1998_576 - score 4.712368\n",
      "wszystko dla\n",
      "  pomyślności Ojczyzny, wspólnoty samorządowej województwa i dobra obywateli,\n",
      "  przestrzegać <em>Konstytucji</em>\n",
      "==============\n",
      "W razie naruszenia przez sejmik województwa <em>Konstytucji</em> lub rażącego albo\n",
      "  wielokrotnego naruszania\n",
      "==============\n",
      "Jeżeli naruszenia <em>Konstytucji</em> lub rażącego albo wielokrotnego naruszania\n",
      "  ustaw dopuszcza się zarząd\n",
      "==============\n",
      "Ustawa 2000_704 - score 4.712368\n",
      "Jeżeli organ nadzorujący uzna, że ustawa będąca podstawą udzielania pomocy\n",
      "  jest niezgodna z <em>Konstytucją</em>\n",
      "==============\n",
      "aktu normatywnego, co do którego zapadło orzeczenie Trybunału Konstytucyjnego\n",
      "  o jego niezgodności z <em>Konstytucją</em>\n",
      "==============\n",
      "aktu normatywnego, co do którego zapadło orzeczenie Trybunału Konstytucyjnego\n",
      "  o jego niezgodności z <em>Konstytucją</em>\n",
      "==============\n",
      "Ustawa 1995_436 - score 4.6062346\n",
      "wszystko\n",
      "  dla pomyślności Ojczyzny, wspólnoty samorządowej powiatu i dobra obywateli,\n",
      "  przestrzegać <em>Konstytucji</em>\n",
      "==============\n",
      "W razie rażącego naruszenia przez radę powiatu <em>Konstytucji</em> lub ustaw Sejm,\n",
      "  na wniosek Prezesa Rady\n",
      "==============\n",
      "Jeżeli naruszenia <em>Konstytucji</em> lub powtarzających się naruszeń ustaw dopuści\n",
      "  się zarząd powiatu, wojewoda\n",
      "==============\n",
      "Ustawa 1995_692 - score 4.461427\n",
      "Jeżeli powtarzającego się naruszenia <em>Konstytucji</em> lub ustaw\n",
      "         dopuszcza się zarząd gminy, wojewoda\n",
      "==============\n",
      "W razie powtarzającego się naruszenia przez radę powiatu\n",
      "             <em>Konstytucji</em> lub ustaw, Sejm, na\n",
      "==============\n",
      "Jeżeli powtarzającego się naruszenia <em>Konstytucji</em> lub ustaw\n",
      "           dopuszcza się zarząd województwa\n",
      "==============\n",
      "Ustawa 1998_1125 - score 4.3565793\n",
      "Urzędnik jest obowiązany:\n",
      "1) przestrzegać <em>Konstytucji</em> Rzeczypospolitej Polskiej i innych przepisów\n",
      "==============\n",
      "Ustawa 1995_59 - score 4.314702\n",
      "występować do Trybunału Konstytucyjnego\n",
      "z wnioskami o:\n",
      "   1) stwierdzenie zgodności aktu ustawodawczego z <em>Konstytucją</em>\n",
      "==============\n",
      "albo innego \n",
      "     aktu normatywnego z <em>Konstytucją</em> lub aktem ustawodawczym,\n",
      "   2) ustalenie powszechnie\n",
      "==============\n",
      "stanowisko Prezesa Najwyższej Izby Kontroli uroczyście przysięgam,\n",
      "że dochowam wierności postanowieniom <em>Konstytucji</em>\n",
      "==============\n",
      "Ustawa 1994_704 - score 4.157324\n",
      "Urzędnik państwowy obowiązany jest w szczególności:\n",
      "          1) przestrzegać <em>Konstytucji</em> Rzeczypospolitej\n",
      "==============\n",
      "Ustawa 1999_1063 - score 4.034313\n",
      ", których status jest określony w umowach międzynarodowych\n",
      "  ratyfikowanych w trybie art. 89 ust. 1 <em>Konstytucji</em>\n",
      "==============\n",
      "Ustawa 1998_375 - score 4.022077\n",
      "Nr 7, poz. 34) wprowadza się następujące\n",
      "zmiany:\n",
      " 1) w preambule w pierwszym tiret wyrazy \"<em>Konstytucji</em>\n",
      "==============\n",
      "Polskiej Rzeczypospolitej\n",
      "   Ludowej\" zastępuje się wyrazami \"<em>Konstytucji</em> Rzeczypospolitej Polskiej\"\n",
      "==============\n",
      "Ustawa 1999_778 - score 4.022077\n",
      "Przepisy ustawy dotyczące ministrów stosuje się również do osób,\n",
      "            o których mowa w art. 147 <em>Konstytucji</em>\n",
      "==============\n",
      "opiniowania rządowych\n",
      "             projektów aktów normatywnych pod względem ich zgodności z\n",
      "             <em>Konstytucją</em>\n",
      "==============\n",
      "Ustawa 2001_1403 - score 3.9068289\n",
      "Ilekroć w ustawie jest mowa o:\n",
      "   1) ambasadorze - oznacza to, mianowanego w trybie określonym w <em>Konstytucji</em>\n",
      "==============\n",
      "wejścia ustawy w życie, pełnią je na\n",
      "zasadach dotychczasowych do czasu odwołania w trybie określonym w <em>Konstytucji</em>\n",
      "==============\n",
      "Ustawa 1996_402 - score 3.6950727\n",
      "składa uroczyste ślubowanie następującej treści:\n",
      "    \"Ślubuję służyć Państwu Polskiemu, przestrzegać <em>Konstytucji</em>\n",
      "==============\n",
      "jest obowiązany postępować zgodnie ze złożonym \n",
      "ślubowaniem, a w szczególności:\n",
      "   1) przestrzegać <em>Konstytucji</em>\n",
      "==============\n",
      "Ustawa 1997_272 - score 3.6073616\n",
      "Rzecznik i jego zastępcy w zakresie wykonywania swoich  zadań\n",
      "           podlegają tylko <em>Konstytucji</em>\n",
      "==============\n",
      "Ustawa 2002_110 - score 3.51438\n",
      "Egzamin obejmuje zagadnienia z zakresu <em>Konstytucji</em> Rzeczypospolitej Polskiej\n",
      "oraz  przepisów dotyczących\n",
      "==============\n",
      "Ustawa 1997_938 - score 3.3420913\n",
      "\"Obejmując obowiązki Prezesa Narodowego Banku Polskiego przysięgam\n",
      "     uroczyście, że postanowień <em>Konstytucji</em>\n",
      "==============\n",
      "Ustawa 1995_368 - score 3.1859057\n",
      "Sprawowanie przez Prezesa jego funkcji nie może wkraczać w dziedzinę, w której\n",
      "   w myśl <em>Konstytucji</em>\n",
      "==============\n",
      "Ustawa 1999_483 - score 2.9705367\n",
      "składa uroczyste ślubowanie następującej treści:\n",
      "      \"Ślubuję służyć Państwu Polskiemu, przestrzegać <em>Konstytucji</em>\n",
      "==============\n",
      "Członek korpusu służby cywilnej jest obowiązany w szczególności:\n",
      "   1) przestrzegać <em>Konstytucji</em> Rzeczypospolitej\n",
      "==============\n",
      "Ustawa 2000_1268 - score 2.9352741\n",
      "ministrów i innych organów administracji\n",
      "  rządowej, podjęte lub wydane przed dniem wejścia w życie <em>Konstytucji</em>\n",
      "==============\n",
      "ministrów lub innych\n",
      "  organów administracji rządowej, podjęte lub wydane przed dniem wejścia w\n",
      "  życie <em>Konstytucji</em>\n",
      "==============\n",
      "Z dniem wejścia w życie ustawy tracą moc rozporządzenia wydane przez organy\n",
      "  inne niż wskazane w <em>Konstytucji</em>\n",
      "==============\n",
      "Ustawa 2001_499 - score 2.8141088\n",
      "posła,\n",
      "   5) zajmowania w dniu wyborów stanowiska lub funkcji, których stosownie do\n",
      "     przepisów <em>Konstytucji</em>\n",
      "==============\n",
      "powołania w toku kadencji na stanowisko lub powierzenia funkcji,\n",
      "     których stosownie do przepisów <em>Konstytucji</em>\n",
      "==============\n",
      "powołania w toku kadencji na stanowisko lub powierzenia funkcji,\n",
      "     których stosownie do przepisów <em>Konstytucji</em>\n",
      "==============\n",
      "Ustawa 1996_396 - score 2.684153\n",
      "obowiązany jest kształcić i wychowywać \n",
      "                młodzież w umiłowaniu Ojczyzny; w poszanowaniu <em>Konstytucji</em>\n",
      "==============\n",
      "Ustawa 1997_733 - score 2.6271172\n",
      "uzasadniają\n",
      "     wprowadzenia żadnego ze stanów nadzwyczajnych przewidzianych w art. 228\n",
      "     ust. 1 <em>Konstytucji</em>\n",
      "==============\n",
      "zastosowania ustawy w przypadku wprowadzenia stanów nadzwyczajnych\n",
      "  przewidzianych w art. 228 ust. 1 <em>Konstytucji</em>\n",
      "==============\n",
      "Ustawa 1999_802 - score 2.400598\n",
      "funkcjonariusza celnego - ślubuję\n",
      "       wiernie służyć Rzeczypospolitej Polskiej, przestrzegać zasad\n",
      "       <em>Konstytucji</em>\n",
      "==============\n",
      "Ustawa 1994_419 - score 2.2426548\n",
      "W okresie 2 lat od dnia wejścia w życie <em>Konstytucji</em> w sprawach o przestępstwa\n",
      "skarbowe zagrożone wyłącznie\n",
      "==============\n",
      "Ustawa 1997_943 - score 2.2426548\n",
      "narodowej wykonuje zadania i kompetencje\n",
      "   Ministra Obrony Narodowej określone w art. 134 ust. 2 i 5 <em>Konstytucji</em>\n",
      "==============\n",
      "Ustawa 1997_944 - score 2.2426548\n",
      "Dyscyplina wojskowa zobowiązuje żołnierza do przestrzegania przepisów \n",
      "   <em>Konstytucji</em> Rzeczypospolitej\n",
      "==============\n",
      "Ustawa 2000_239 - score 1.9818678\n",
      "Nauczyciel obowiązany jest kształcić i wychowywać młodzież w\n",
      "           umiłowaniu Ojczyzny, w poszanowaniu <em>Konstytucji</em>\n",
      "==============\n",
      "Ustawa 2000_488 - score 1.9818678\n",
      "1) czy kandydat spełnia warunki określone w przepisie art. 127 ust.\n",
      "             3 zdanie pierwsze <em>Konstytucji</em>\n",
      "==============\n",
      "Ustawa 2001_1070 - score 1.750279\n",
      "W zakresie orzekania asesorzy sądowi są niezawiśli i podlegają tylko\n",
      "     <em>Konstytucji</em> oraz ustawom.\n",
      "==============\n",
      "W zakresie orzekania ławnicy są niezawiśli i podlegają tylko <em>Konstytucji</em>\n",
      "     oraz ustawom.\n",
      " §2.\n",
      "==============\n",
      "Ustawa 2001_298 - score 1.6875176\n",
      "Ślubuję przestrzegać <em>Konstytucji</em> Rzeczypospolitej Polskiej i\n",
      "    obowiązującego porządku prawnego oraz\n",
      "==============\n",
      "Ustawa 1999_95 - score 1.6079149\n",
      "lub  współpracuje z partiami politycznymi albo innymi\n",
      "     organizacjami, o których mowa w art. 13 <em>Konstytucji</em>\n",
      "==============\n",
      "Ustawa 2002_1070 - score 1.5354829\n",
      "(Służby Wywiadu Wojskowego),\n",
      "przysięgam: służyć wiernie Rzeczypospolitej Polskiej  i stać na straży\n",
      "<em>Konstytucji</em>\n",
      "==============\n",
      "Ustawa 1997_349 - score 1.3010497\n",
      "Do chwili wejścia w życie ustawy wypełniającej dyspozycję art. 216 ust. 5\n",
      "  <em>Konstytucji</em> Rzeczypospolitej\n",
      "==============\n",
      "Ustawa 1994_195 - score 1.1287208\n",
      "jest obowiązany postępować zgodnie ze złożonym ślubowaniem, a w\n",
      "  szczególności:\n",
      "   1) przestrzegać <em>Konstytucji</em>\n",
      "==============\n",
      "Ustawa 2000_696 - score 0.9095807\n",
      "i wykonawczą\n",
      "  Rzeczypospolitej Polskiej oraz o samorządzie terytorialnym\" zastępuje się\n",
      "  wyrazem \"<em>Konstytucji</em>\n",
      "==============\n",
      "Do powoływania i odwoływania Przewodniczącego Komitetu stosuje się\n",
      "       przepisy <em>Konstytucji</em> Rzeczypospolitej\n",
      "==============\n"
     ]
    }
   ],
   "source": [
    "for hit in res['hits']['hits']:\n",
    "    print(f\"Ustawa {hit['_id']} - score {hit['_score']}\")\n",
    "    for fragment in hit['highlight']['data']:\n",
    "        print(fragment)\n",
    "        print(\"==\"*7)"
   ]
  }
 ],
 "metadata": {
  "kernelspec": {
   "display_name": "Python 3 (ipykernel)",
   "language": "python",
   "name": "python3"
  },
  "language_info": {
   "codemirror_mode": {
    "name": "ipython",
    "version": 3
   },
   "file_extension": ".py",
   "mimetype": "text/x-python",
   "name": "python",
   "nbconvert_exporter": "python",
   "pygments_lexer": "ipython3",
   "version": "3.9.12"
  }
 },
 "nbformat": 4,
 "nbformat_minor": 5
}
